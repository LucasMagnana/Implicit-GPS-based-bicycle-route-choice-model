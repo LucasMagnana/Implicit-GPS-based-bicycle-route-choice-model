{
 "cells": [
  {
   "cell_type": "code",
   "execution_count": 2,
   "metadata": {},
   "outputs": [],
   "source": [
    "import python.data as data\n",
    "project_folder = \"monresovelo\"\n",
    "\n",
    "import pickle \n",
    "import pandas as pd"
   ]
  },
  {
   "cell_type": "code",
   "execution_count": 3,
   "metadata": {},
   "outputs": [],
   "source": [
    "if(not data.check_file(\"files/\"+project_folder+\"/data_processed/observations_matched.df\")):\n",
    "    %run data/monresovelo/load_data.py -h #can't use the variable project_folder here, need to be changed manually"
   ]
  },
  {
   "cell_type": "code",
   "execution_count": 4,
   "metadata": {},
   "outputs": [],
   "source": [
    "data.simplify_gps(\"files/\"+project_folder+\"/data_processed/observations_matched.df\", \n",
    "              \"files/\"+project_folder+\"/data_processed/observations_matched_simplified.df\")"
   ]
  },
  {
   "cell_type": "code",
   "execution_count": 6,
   "metadata": {},
   "outputs": [
    {
     "name": "stdout",
     "output_type": "stream",
     "text": [
      "Loading city...\n"
     ]
    },
    {
     "name": "stderr",
     "output_type": "stream",
     "text": [
      "/home/lucas/.local/lib/python3.6/site-packages/osmnx/utils_geo.py:335: ShapelyDeprecationWarning: Iteration over multi-part geometries is deprecated and will be removed in Shapely 2.0. Use the `geoms` property to access the constituent parts of a multi-part geometry.\n",
      "  for polygon in geometry:\n",
      "/home/lucas/.local/lib/python3.6/site-packages/osmnx/utils_geo.py:426: ShapelyDeprecationWarning: Iteration over multi-part geometries is deprecated and will be removed in Shapely 2.0. Use the `geoms` property to access the constituent parts of a multi-part geometry.\n",
      "  for poly in multipoly:\n",
      "/home/lucas/.local/lib/python3.6/site-packages/osmnx/utils_geo.py:426: ShapelyDeprecationWarning: Iteration over multi-part geometries is deprecated and will be removed in Shapely 2.0. Use the `geoms` property to access the constituent parts of a multi-part geometry.\n",
      "  for poly in multipoly:\n"
     ]
    }
   ],
   "source": [
    "data.check_file(\"files/\"+project_folder+\"/data_processed/unreachable_routes.tab\", [[], [], []])\n",
    "if(not data.check_file(\"files/\"+project_folder+\"/city_graphs/city.ox\")):\n",
    "    %run data/monresovelo/load_city.py -h"
   ]
  },
  {
   "cell_type": "code",
   "execution_count": 2,
   "metadata": {
    "scrolled": true
   },
   "outputs": [
    {
     "name": "stdout",
     "output_type": "stream",
     "text": [
      "Route 4880/4881 "
     ]
    }
   ],
   "source": [
    "data.pathfinding_osmnx(\"files/\"+project_folder+\"/data_processed/observations_matched_simplified.df\", \n",
    "                       \"files/\"+project_folder+\"/data_processed/osmnx_pathfinding.df\", \n",
    "                       \"files/\"+project_folder+\"/city_graphs/city.ox\",\n",
    "                       \"files/\"+project_folder+\"/data_processed/unreachable_routes.tab\")"
   ]
  },
  {
   "cell_type": "code",
   "execution_count": 3,
   "metadata": {},
   "outputs": [
    {
     "name": "stdout",
     "output_type": "stream",
     "text": [
      "Warning: creating files/monresovelo/data_processed/osmnx_pathfinding_simplified.df\n",
      "Simplifying route 4880/4881 "
     ]
    }
   ],
   "source": [
    "data.simplify_gps(\"files/\"+project_folder+\"/data_processed/osmnx_pathfinding.df\", \n",
    "                  \"files/\"+project_folder+\"/data_processed/osmnx_pathfinding_simplified.df\")"
   ]
  },
  {
   "cell_type": "markdown",
   "metadata": {},
   "source": [
    "## Distance"
   ]
  },
  {
   "cell_type": "code",
   "execution_count": 3,
   "metadata": {},
   "outputs": [
    {
     "name": "stdout",
     "output_type": "stream",
     "text": [
      "Calculating the distance of route 4880/4881Warning: creating files/monresovelo/distances/distances_observations.tab\n",
      "Calculating the distance of route 4880/4881Warning: creating files/monresovelo/distances/distances_osmnx.tab\n"
     ]
    }
   ],
   "source": [
    "data.compute_distance(\"files/\"+project_folder+\"/data_processed/observations_matched_simplified.df\",\n",
    "                      \"files/\"+project_folder+\"/distances/distances_observations.tab\")\n",
    "data.compute_distance(\"files/\"+project_folder+\"/data_processed/osmnx_pathfinding_simplified.df\", \n",
    "                      \"files/\"+project_folder+\"/distances/distances_osmnx.tab\")"
   ]
  },
  {
   "cell_type": "markdown",
   "metadata": {},
   "source": [
    "# Mapbox"
   ]
  },
  {
   "cell_type": "code",
   "execution_count": 26,
   "metadata": {
    "scrolled": true
   },
   "outputs": [],
   "source": [
    "data.pathfinding_mapbox(\"files/\"+project_folder+\"/data_processed/observations_matched_simplified.df\", \n",
    "                    \"files/\"+project_folder+\"/data_processed/mapbox_pathfinding.df\")"
   ]
  },
  {
   "cell_type": "code",
   "execution_count": 27,
   "metadata": {},
   "outputs": [
    {
     "name": "stdout",
     "output_type": "stream",
     "text": [
      "Warning: creating files/monresovelo/data_processed/mapbox_pathfinding_simplified.df\n",
      "Simplifying route 4880/4881 "
     ]
    }
   ],
   "source": [
    "data.simplify_gps(\"files/\"+project_folder+\"/data_processed/mapbox_pathfinding.df\", \n",
    "                  \"files/\"+project_folder+\"/data_processed/mapbox_pathfinding_simplified.df\")"
   ]
  }
 ],
 "metadata": {
  "kernelspec": {
   "display_name": "Python 3",
   "language": "python",
   "name": "python3"
  },
  "language_info": {
   "codemirror_mode": {
    "name": "ipython",
    "version": 3
   },
   "file_extension": ".py",
   "mimetype": "text/x-python",
   "name": "python",
   "nbconvert_exporter": "python",
   "pygments_lexer": "ipython3",
   "version": "3.6.9"
  }
 },
 "nbformat": 4,
 "nbformat_minor": 4
}
