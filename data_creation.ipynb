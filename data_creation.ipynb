{
 "cells": [
  {
   "cell_type": "code",
   "execution_count": 1,
   "metadata": {},
   "outputs": [],
   "source": [
    "import python.data as data\n",
    "project_folder = \"monresovelo\"\n",
    "\n",
    "import warnings\n",
    "warnings.simplefilter(action='ignore', category=FutureWarning)\n",
    "\n",
    "import pickle \n",
    "import pandas as pd\n",
    "\n",
    "token = \"YOUR MAPBOX TOKEN\"\n"
   ]
  },
  {
   "cell_type": "markdown",
   "metadata": {},
   "source": [
    "## Observations (GPS tracks)"
   ]
  },
  {
   "cell_type": "markdown",
   "metadata": {},
   "source": [
    "Check if the observations have already been preprocessed, if not, launch a python script that do it.\n",
    "\n",
    "<font color='red'> <b>The project_folder variable cannot be used after %run so if using another project than monresovelo it needs to be manually modified.</b></font>\n",
    "\n",
    "<font color='green'>The preprocessed observations are stored in <b>files/PROJECT_FOLDER/data_processed/observations_matched.df</b>.</font>\n"
   ]
  },
  {
   "cell_type": "code",
   "execution_count": 2,
   "metadata": {},
   "outputs": [
    {
     "name": "stdout",
     "output_type": "stream",
     "text": [
      "Loading data...\n",
      "4880th route \n",
      "Warning: creating files/monresovelo/data_processed/observations_matched.df\n"
     ]
    }
   ],
   "source": [
    "if(not data.check_file(\"files/\"+project_folder+\"/data_processed/observations_matched.df\")):\n",
    "    %run data/monresovelo/load_data.py -h"
   ]
  },
  {
   "cell_type": "markdown",
   "metadata": {},
   "source": [
    "Simplify the observations, trying to reduce the number of GPS points of each one. The function automatically check if it has already been done or not. \n",
    "\n",
    "<font color='green'>The simplified observations are stored in <b>files/PROJECT_FOLDER/data_processed/observations_matched_simplified.df</b></font>"
   ]
  },
  {
   "cell_type": "code",
   "execution_count": 3,
   "metadata": {
    "scrolled": true
   },
   "outputs": [
    {
     "name": "stdout",
     "output_type": "stream",
     "text": [
      "Warning: creating files/monresovelo/data_processed/observations_matched_simplified.df\n",
      "Simplifying route 4880/4880 "
     ]
    }
   ],
   "source": [
    "data.simplify_gps(\"files/\"+project_folder+\"/data_processed/observations_matched.df\", \n",
    "              \"files/\"+project_folder+\"/data_processed/observations_matched_simplified.df\")"
   ]
  },
  {
   "cell_type": "markdown",
   "metadata": {},
   "source": [
    "## Shortest paths"
   ]
  },
  {
   "cell_type": "markdown",
   "metadata": {},
   "source": [
    "Check if a road graph has already been loaded and saved, if not, launch a python script that load and save the road graph containing all the observations previously preprocessed.\n",
    "\n",
    "<font color='green'>The road graph is stored in <b>files/PROJECT_FOLDER/city_graphs/city.ox</b></font>"
   ]
  },
  {
   "cell_type": "code",
   "execution_count": 4,
   "metadata": {},
   "outputs": [
    {
     "name": "stdout",
     "output_type": "stream",
     "text": [
      "Creating city.ox, this might take several minutes...\n"
     ]
    }
   ],
   "source": [
    "if(not data.check_file(\"files/\"+project_folder+\"/city_graphs/city.ox\")):\n",
    "    %run data/monresovelo/load_city.py -h"
   ]
  },
  {
   "cell_type": "markdown",
   "metadata": {},
   "source": [
    "Use the road graph to find the shortest path between the origin and the destination point of each simplified observations. \n",
    "\n",
    "<font color='green'>The shortest paths are stored in <b>files/PROJECT_FOLDER/data_processed/osmnx_pathfinding.df</b>.</font>"
   ]
  },
  {
   "cell_type": "code",
   "execution_count": 5,
   "metadata": {
    "scrolled": true
   },
   "outputs": [
    {
     "name": "stdout",
     "output_type": "stream",
     "text": [
      "Warning: creating files/monresovelo/data_processed/osmnx_pathfinding.df\n",
      "Finding the shortest path for route 4880/4880 with OSMNX."
     ]
    }
   ],
   "source": [
    "data.pathfinding_osmnx(\"files/\"+project_folder+\"/data_processed/observations_matched_simplified.df\", \n",
    "                       \"files/\"+project_folder+\"/data_processed/osmnx_pathfinding.df\", \n",
    "                       \"files/\"+project_folder+\"/city_graphs/city.ox\")"
   ]
  },
  {
   "cell_type": "markdown",
   "metadata": {},
   "source": [
    "<font color='green'>The simplified shortest paths are stored in <b>files/PROJECT_FOLDER/data_processed/osmnx_pathfinding_simplified.df</b>.</font>"
   ]
  },
  {
   "cell_type": "code",
   "execution_count": 6,
   "metadata": {},
   "outputs": [
    {
     "name": "stdout",
     "output_type": "stream",
     "text": [
      "Warning: creating files/monresovelo/data_processed/osmnx_pathfinding_simplified.df\n",
      "Simplifying route 4880/4880 "
     ]
    }
   ],
   "source": [
    "data.simplify_gps(\"files/\"+project_folder+\"/data_processed/osmnx_pathfinding.df\", \n",
    "                  \"files/\"+project_folder+\"/data_processed/osmnx_pathfinding_simplified.df\")"
   ]
  },
  {
   "cell_type": "markdown",
   "metadata": {},
   "source": [
    "## Distances"
   ]
  },
  {
   "cell_type": "markdown",
   "metadata": {},
   "source": [
    "Compute the distance of each observation and each shortest paths. \n",
    "\n",
    "<font color='green'>The distances are stored in <b>files/PROJECT_FOLDER/distances/</b>.</font>"
   ]
  },
  {
   "cell_type": "code",
   "execution_count": 7,
   "metadata": {},
   "outputs": [
    {
     "name": "stdout",
     "output_type": "stream",
     "text": [
      "Calculating the distance of route 4880/4880.\n",
      "Warning: creating files/monresovelo/distances/distances_observations.tab\n",
      "Calculating the distance of route 4880/4880.\n",
      "Warning: creating files/monresovelo/distances/distances_osmnx.tab\n"
     ]
    }
   ],
   "source": [
    "data.compute_distance(\"files/\"+project_folder+\"/data_processed/observations_matched_simplified.df\",\n",
    "                      \"files/\"+project_folder+\"/distances/distances_observations.tab\")\n",
    "data.compute_distance(\"files/\"+project_folder+\"/data_processed/osmnx_pathfinding_simplified.df\", \n",
    "                      \"files/\"+project_folder+\"/distances/distances_osmnx.tab\")"
   ]
  },
  {
   "cell_type": "markdown",
   "metadata": {},
   "source": [
    "## Mapbox"
   ]
  },
  {
   "cell_type": "markdown",
   "metadata": {},
   "source": [
    "Send a request to Mapbox API to find a cycling route between the origin and destination points of each observation.\n",
    "\n",
    "<font color='red'><b>\n",
    "This tile will throw a \"KeyError: 'code'\" because of the limited number of requests that can be send to the mapbox API. When it happens, just wait a few seconds and launch it again until all the routes have been computed.</b></font>\n",
    "\n",
    "<font color='green'>The Mapbox routes are stored in <b>files/PROJECT_FOLDER/data_processed/mapbox_pathfinding.df</b>.</font>"
   ]
  },
  {
   "cell_type": "code",
   "execution_count": 22,
   "metadata": {
    "scrolled": true
   },
   "outputs": [
    {
     "name": "stdout",
     "output_type": "stream",
     "text": [
      "Finding the shortest path for route 4880/4880 using Mapbox."
     ]
    }
   ],
   "source": [
    "data.pathfinding_mapbox(\"files/\"+project_folder+\"/data_processed/observations_matched_simplified.df\", \n",
    "                    \"files/\"+project_folder+\"/data_processed/mapbox_pathfinding.df\", token)"
   ]
  },
  {
   "cell_type": "markdown",
   "metadata": {},
   "source": [
    "<font color='green'>The simplified Mapbox routes are stored in <b>files/PROJECT_FOLDER/data_processed/mapbox_pathfinding_simplified.df</b>.</font>"
   ]
  },
  {
   "cell_type": "code",
   "execution_count": 23,
   "metadata": {},
   "outputs": [
    {
     "name": "stdout",
     "output_type": "stream",
     "text": [
      "Warning: creating files/monresovelo/data_processed/mapbox_pathfinding_simplified.df\n",
      "Simplifying route 4880/4880 "
     ]
    }
   ],
   "source": [
    "data.simplify_gps(\"files/\"+project_folder+\"/data_processed/mapbox_pathfinding.df\", \n",
    "                  \"files/\"+project_folder+\"/data_processed/mapbox_pathfinding_simplified.df\")"
   ]
  },
  {
   "cell_type": "markdown",
   "metadata": {},
   "source": [
    "<b>Once all the data has been created for a project, you can use the notebook main.ipynb.</b>"
   ]
  },
  {
   "cell_type": "code",
   "execution_count": null,
   "metadata": {},
   "outputs": [],
   "source": []
  }
 ],
 "metadata": {
  "kernelspec": {
   "display_name": "repo_paper",
   "language": "python",
   "name": "repo_paper"
  },
  "language_info": {
   "codemirror_mode": {
    "name": "ipython",
    "version": 3
   },
   "file_extension": ".py",
   "mimetype": "text/x-python",
   "name": "python",
   "nbconvert_exporter": "python",
   "pygments_lexer": "ipython3",
   "version": "3.8.0"
  }
 },
 "nbformat": 4,
 "nbformat_minor": 4
}
